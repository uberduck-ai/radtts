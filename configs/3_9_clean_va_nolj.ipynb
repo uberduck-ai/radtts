{
 "cells": [
  {
   "cell_type": "code",
   "execution_count": 9,
   "id": "e6387832",
   "metadata": {},
   "outputs": [],
   "source": [
    "# small dataset is faster and allows easier comparison of clean and raw since we have for all data\n",
    "import pandas as pd\n",
    "\n",
    "copeland_filelist = \"/usr/src/app/radtts/data/dataset-1674754128-thomas-copeland (3)/copeland/filelist.txt\"\n"
   ]
  },
  {
   "cell_type": "code",
   "execution_count": 10,
   "id": "060cfaf4",
   "metadata": {},
   "outputs": [],
   "source": [
    "copeland = pd.read_csv(copeland_filelist, sep='|', index_col=None, header = None)"
   ]
  },
  {
   "cell_type": "code",
   "execution_count": 11,
   "id": "7d18c52c",
   "metadata": {},
   "outputs": [],
   "source": [
    "copeland[2] = 0"
   ]
  },
  {
   "cell_type": "code",
   "execution_count": 12,
   "id": "820b90b3",
   "metadata": {},
   "outputs": [],
   "source": [
    "for i in range(copeland.shape[0]):\n",
    "    copeland.iloc[i,0] = f\"dataset-1674754128-thomas-copeland (3)/copeland/{copeland.iloc[i,0]}\""
   ]
  },
  {
   "cell_type": "code",
   "execution_count": 13,
   "id": "6a77e043",
   "metadata": {},
   "outputs": [],
   "source": [
    "full_data = pd.concat([\n",
    "                       copeland,\n",
    "                      ])"
   ]
  },
  {
   "cell_type": "code",
   "execution_count": 14,
   "id": "70feb7f2",
   "metadata": {},
   "outputs": [],
   "source": [
    "import tempfile\n",
    "def resample(in_path, output_path):\n",
    "\n",
    "    # first read and write to fix codec issues\n",
    "    rate, data = read(in_path)\n",
    "    tf = tempfile.NamedTemporaryFile(suffix = '.wav')\n",
    "    write(tf.name, rate = rate, data = np.asarray(data, dtype = np.int16))\n",
    "    \n",
    "    resampled_audio = librosa.load(tf.name)\n",
    "    normalized_resampled_audio = np.asarray(\n",
    "        resampled_audio[0]\n",
    "        / np.abs(resampled_audio[0]).max()\n",
    "        * MAX_WAV_VALUE\n",
    "        / 2,\n",
    "        dtype=np.int16,\n",
    "    )\n",
    "    write(\n",
    "        data=normalized_resampled_audio,\n",
    "        rate=resampled_audio[1],\n",
    "        filename=output_path,\n",
    "    )"
   ]
  },
  {
   "cell_type": "code",
   "execution_count": 16,
   "id": "e1b3839c",
   "metadata": {},
   "outputs": [
    {
     "name": "stderr",
     "output_type": "stream",
     "text": [
      "100%|██████████| 103/103 [00:00<00:00, 357.34it/s]\n"
     ]
    }
   ],
   "source": [
    "import numpy as np\n",
    "MAX_WAV_VALUE=32768\n",
    "from scipy.io.wavfile import write, read\n",
    "from tqdm import tqdm\n",
    "import librosa\n",
    "output_paths =[]\n",
    "for rel_path in tqdm(full_data[0]):\n",
    "    rel_uuid = rel_path.split('.wav')[-2]\n",
    "    in_path = f\"/usr/src/app/radtts/data/{rel_path}\"\n",
    "    output_path = f\"/usr/src/app/radtts/data/{rel_uuid}_22k_normalized.wav\"\n",
    "    resample(in_path, output_path)\n",
    "    output_paths.append(output_path)"
   ]
  },
  {
   "cell_type": "code",
   "execution_count": 17,
   "id": "edd12cb9",
   "metadata": {},
   "outputs": [],
   "source": [
    "full_data[0] = output_paths\n",
    "full_data.to_csv('/usr/src/app/radtts/data/combined_030923_clean_small_22k_normalized.txt', sep = '|', index = None, header = None)"
   ]
  },
  {
   "cell_type": "code",
   "execution_count": null,
   "id": "9aa1da41",
   "metadata": {},
   "outputs": [],
   "source": []
  }
 ],
 "metadata": {
  "kernelspec": {
   "display_name": "Python 3",
   "language": "python",
   "name": "python3"
  },
  "language_info": {
   "codemirror_mode": {
    "name": "ipython",
    "version": 3
   },
   "file_extension": ".py",
   "mimetype": "text/x-python",
   "name": "python",
   "nbconvert_exporter": "python",
   "pygments_lexer": "ipython3",
   "version": "3.8.8"
  }
 },
 "nbformat": 4,
 "nbformat_minor": 5
}
