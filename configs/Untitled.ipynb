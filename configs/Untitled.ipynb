{
 "cells": [
  {
   "cell_type": "code",
   "execution_count": 46,
   "id": "8bb024bd",
   "metadata": {},
   "outputs": [],
   "source": [
    "# TODO (Sam): have to fix (maybe use trimmed data?), add thomas copeland\n",
    "import pandas as pd\n",
    "# eminem_filelist = \"/usr/src/app/radtts/data/eminem_14/train_multi.txt\"\n",
    "uberduck_multi_filelist = \"/usr/src/app/radtts/data/uberduck-rappers.txt\"\n",
    "lj_filelist = \"/usr/src/app/radtts/data/lj_data/LJSpeech-1.1/metadata_formatted.txt\"\n",
    "sjk_filelist = \"/usr/src/app/radtts/data/sjk/filelist.txt\"\n",
    "zwf_vc_filelist = \"/usr/src/app/radtts/data/zwf-vc/filelist.txt\"\n",
    "wrl_filelist = \"/usr/src/app/radtts/data/wrl/filelist.txt\"\n",
    "copeland_filelist = \"/usr/src/app/radtts/data/copeland/Verses_multi.txt\"\n",
    "jrod_news_filelist = \"/usr/src/app/radtts/data/JRodriguesNewscastDataset/list.txt\"\n",
    "jrod_old_filelist = \"/usr/src/app/radtts/data/JRodriguesOldTimerDataset/list.txt\"\n",
    "jrod_base_filelist = \"/usr/src/app/radtts/data/jr_base/list.txt\"\n",
    "csing_filelist  = \"/usr/src/app/radtts/data/Carolyn_Singing/list.txt\"\n",
    "cspeak_filelist = \"/usr/src/app/radtts/data/Carolyn_Speaking/list.txt\"\n",
    "michael_christ = \"/usr/src/app/radtts/data/michaelchristmas/list.txt\"\n",
    "shrek_filelist = \"/usr/src/app/radtts/data/Shrek_Data/list.txt\"\n",
    "po_filelist = \"/usr/src/app/radtts/data/Po_Data/list.txt\"\n",
    "one_am_filelist = \"/usr/src/app/radtts/data/dataset-1673374151-am/trailer_guy_dataset/filelist.txt\"\n",
    "frosty_2_filelist = \"/usr/src/app/radtts/data/dataset-1674764542-frosty-john (1)/dataset/filelist.txt\"\n",
    "general_9_filelist = \"/usr/src/app/radtts/data/dataset-1674777109-general-herring/dataset/filelist.txt\"\n",
    "bertie_1_filelist = \"/usr/src/app/radtts/data/dataset-1675114471-bertie (2)/dataset/filelist.txt\"\n",
    "general_6_filelist = \"/usr/src/app/radtts/data/dataset-1675130786-general-herring/dataset/filelist.txt\"\n",
    "frosty_5_filelist = \"/usr/src/app/radtts/data/dataset-1675356555-frosty-john/dataset/filelist.txt\"\n",
    "bertie_2_filelist = \"/usr/src/app/radtts/data/dataset-1675696662-bertie/dataset/filelist.txt\""
   ]
  },
  {
   "cell_type": "code",
   "execution_count": 47,
   "id": "16361dc0",
   "metadata": {},
   "outputs": [
    {
     "data": {
      "text/plain": [
       "'/usr/src/app/radtts/data/lj_data/LJSpeech-1.1/metadata_formatted.txt'"
      ]
     },
     "execution_count": 47,
     "metadata": {},
     "output_type": "execute_result"
    }
   ],
   "source": [
    "lj_filelist"
   ]
  },
  {
   "cell_type": "code",
   "execution_count": 48,
   "id": "c44f5a88",
   "metadata": {},
   "outputs": [],
   "source": [
    "# eminem_data = pd.read_csv(eminem_filelist, sep='|', index_col=None, header = None)\n",
    "uberduck_data = pd.read_csv(uberduck_multi_filelist, sep='|', index_col=None, header = None)\n",
    "lj_data = pd.read_csv(lj_filelist, sep='|', index_col=None, header = None)\n",
    "sjk_vc = pd.read_csv(sjk_filelist, sep='|', index_col=None, header = None)\n",
    "zwf_vc = pd.read_csv(zwf_vc_filelist, sep='|', index_col=None, header = None)\n",
    "wrl_vc = pd.read_csv(wrl_filelist, sep='|', index_col=None, header = None)\n",
    "copeland = pd.read_csv(copeland_filelist, sep='|', index_col=None, header = None)\n",
    "\n",
    "jrod_news = pd.read_csv(jrod_news_filelist, sep='|', index_col=None, header = None)\n",
    "jrod_old = pd.read_csv(jrod_old_filelist, sep='|', index_col=None, header = None)\n",
    "jrod_base = pd.read_csv(jrod_base_filelist, sep='|', index_col=None, header = None)\n",
    "csing = pd.read_csv(csing_filelist, sep='|', index_col=None, header = None)\n",
    "cspeak = pd.read_csv(cspeak_filelist, sep='|', index_col=None, header = None)\n",
    "michael = pd.read_csv(michael_christ, sep='|', index_col=None, header = None)\n",
    "shrek = pd.read_csv(shrek_filelist, sep='|', index_col=None, header = None)\n",
    "po = pd.read_csv(po_filelist, sep='|', index_col=None, header = None)\n",
    "one_am = pd.read_csv(one_am_filelist, sep='|', index_col=None, header = None)\n",
    "frosty_2 = pd.read_csv(frosty_2_filelist, sep='|', index_col=None, header = None)\n",
    "general_9 = pd.read_csv(general_9_filelist, sep='|', index_col=None, header = None)\n",
    "bertie_1 = pd.read_csv(bertie_1_filelist, sep='|', index_col=None, header = None)\n",
    "general_6 = pd.read_csv(general_6_filelist, sep='|', index_col=None, header = None)\n",
    "frosty_5 = pd.read_csv(frosty_5_filelist, sep='|', index_col=None, header = None)\n",
    "bertie_2 = pd.read_csv(bertie_2_filelist, sep='|', index_col=None, header = None)\n",
    "\n",
    "\n",
    "\n",
    "\n",
    "\n",
    "\n",
    "\n",
    "\n",
    "\n",
    "\n"
   ]
  },
  {
   "cell_type": "code",
   "execution_count": 49,
   "id": "d91aafea",
   "metadata": {},
   "outputs": [],
   "source": [
    "lj_data[2] = 10\n",
    "# eminem_data[2] = 11\n",
    "sjk_vc[2] = 12\n",
    "zwf_vc[2] = 13\n",
    "wrl_vc[2] = 14\n",
    "copeland[2] = 15\n",
    "\n",
    "bertie_1[2] = 11\n",
    "frosty_2[2] = 16\n",
    "one_am[2] = 17\n",
    "general_9[2] = 18\n",
    "general_6[2] = 19\n",
    "frosty_5[2] = 20\n",
    "bertie_2[2] = 21\n",
    "\n",
    "\n",
    "\n",
    "jrod_news[2] = 26\n",
    "jrod_old[2] = 24\n",
    "jrod_base[2] = 23\n",
    "csing[2] = 25\n",
    "cspeak[2] = 27\n",
    "michael[2] = 28\n",
    "shrek[2]  = 29\n",
    "po[2] = 22\n",
    "\n",
    "\n",
    "\n",
    "\n",
    "\n",
    "\n",
    "\n",
    "\n",
    "\n",
    "\n",
    "\n",
    "\n"
   ]
  },
  {
   "cell_type": "code",
   "execution_count": 50,
   "id": "757867b4",
   "metadata": {},
   "outputs": [],
   "source": [
    "# for i in range(eminem_data.shape[0]):\n",
    "#     eminem_data.iloc[i,0] = f\"eminem_14/{eminem_data.iloc[i,0]}\"\n",
    "\n",
    "for i in range(lj_data.shape[0]):\n",
    "    lj_data.iloc[i,0] = f\"lj_data/LJSpeech-1.1/wavs/{lj_data.iloc[i,0]}\"\n",
    "    \n",
    "for i in range(sjk_vc.shape[0]):\n",
    "    sjk_vc.iloc[i,0] = f\"sjk/{sjk_vc.iloc[i,0]}\"\n",
    "    \n",
    "for i in range(zwf_vc.shape[0]):\n",
    "    zwf_vc.iloc[i,0] = f\"zwf-vc/{zwf_vc.iloc[i,0]}\"\n",
    "    \n",
    "for i in range(wrl_vc.shape[0]):\n",
    "    wrl_vc.iloc[i,0] = f\"wrl/{wrl_vc.iloc[i,0]}\"\n",
    "    \n",
    "for i in range(copeland.shape[0]):\n",
    "    copeland.iloc[i,0] = f\"copeland/{copeland.iloc[i,0]}\"\n",
    "    \n",
    "for i in range(jrod_news.shape[0]):\n",
    "    jrod_news.iloc[i,0] = f\"JRodriguesNewscastDataset/{jrod_news.iloc[i,0]}\"\n",
    "\n",
    "for i in range(jrod_old.shape[0]):\n",
    "    jrod_old.iloc[i,0] = f\"JRodriguesOldTimerDataset/{jrod_old.iloc[i,0]}\"\n",
    "    \n",
    "for i in range(jrod_base.shape[0]):\n",
    "#     print(i)\n",
    "    jrod_base.iloc[i,0] = f\"jr_base/{jrod_base.iloc[i,0]}\"\n",
    "\n",
    "for i in range(csing.shape[0]):\n",
    "    csing.iloc[i,0] = f\"Carolyn_Singing/{csing.iloc[i,0]}\"\n",
    "    \n",
    "for i in range(cspeak.shape[0]):\n",
    "    cspeak.iloc[i,0] = f\"Carolyn_Speaking/{cspeak.iloc[i,0]}\"\n",
    "\n",
    "for i in range(michael.shape[0]):\n",
    "    michael.iloc[i,0] = f\"michaelchristmas/{michael.iloc[i,0]}\"\n",
    "    \n",
    "for i in range(shrek.shape[0]):\n",
    "    shrek.iloc[i,0] = f\"Shrek_Data/{shrek.iloc[i,0]}\"\n",
    "    \n",
    "for i in range(po.shape[0]):\n",
    "    po.iloc[i,0] = f\"Po_Data/{po.iloc[i,0]}\"\n",
    "    \n",
    "for i in range(one_am.shape[0]):\n",
    "    one_am.iloc[i,0] = f\"dataset-1673374151-am/trailer_guy_dataset/{one_am.iloc[i,0]}\"\n",
    "    \n",
    "for i in range(frosty_2.shape[0]):\n",
    "    frosty_2.iloc[i,0] = f\"dataset-1674764542-frosty-john (1)/dataset/{frosty_2.iloc[i,0]}\"\n",
    "    \n",
    "for i in range(general_9.shape[0]):\n",
    "    general_9.iloc[i,0] = f\"dataset-1674777109-general-herring/dataset/{general_9.iloc[i,0]}\"\n",
    "    \n",
    "for i in range(bertie_1.shape[0]):\n",
    "    bertie_1.iloc[i,0] = f\"dataset-1675114471-bertie (2)/dataset/{bertie_1.iloc[i,0]}\"\n",
    "    \n",
    "for i in range(general_6.shape[0]):\n",
    "    general_6.iloc[i,0] = f\"dataset-1675130786-general-herring/dataset/{general_6.iloc[i,0]}\"\n",
    "    \n",
    "for i in range(frosty_5.shape[0]):\n",
    "    frosty_5.iloc[i,0] = f\"dataset-1675356555-frosty-john/dataset/{frosty_5.iloc[i,0]}\"\n",
    "    \n",
    "for i in range(bertie_2.shape[0]):\n",
    "    bertie_2.iloc[i,0] = f\"dataset-1675696662-bertie/dataset/{bertie_2.iloc[i,0]}\""
   ]
  },
  {
   "cell_type": "code",
   "execution_count": 51,
   "id": "2bad44b7",
   "metadata": {},
   "outputs": [],
   "source": [
    "full_data = pd.concat([uberduck_data,\n",
    "                       lj_data, \n",
    "                       sjk_vc, \n",
    "                       zwf_vc,\n",
    "                       wrl_vc,\n",
    "                       copeland,\n",
    "                       bertie_1,\n",
    "                       one_am,\n",
    "                       frosty_2,\n",
    "                       general_9,\n",
    "                       general_6,\n",
    "                       frosty_5,\n",
    "                       bertie_2,\n",
    "#                       jrod_news, \n",
    "#                        jrod_old,\n",
    "#                        jrod_base, \n",
    "#                        csing,\n",
    "#                        cspeak,\n",
    "#                        michael,\n",
    "#                        shrek,\n",
    "#                        po,\n",
    "\n",
    "                      ])"
   ]
  },
  {
   "cell_type": "code",
   "execution_count": 52,
   "id": "43dff4f1",
   "metadata": {},
   "outputs": [
    {
     "data": {
      "text/plain": [
       "(18839, 3)"
      ]
     },
     "execution_count": 52,
     "metadata": {},
     "output_type": "execute_result"
    }
   ],
   "source": [
    "full_data.shape"
   ]
  },
  {
   "cell_type": "code",
   "execution_count": 53,
   "id": "700b4204",
   "metadata": {},
   "outputs": [],
   "source": [
    "def resample(in_path, output_path):\n",
    "\n",
    "    resampled_audio = librosa.load(in_path)\n",
    "    normalized_resampled_audio = np.asarray(\n",
    "        resampled_audio[0]\n",
    "        / np.abs(resampled_audio[0]).max()\n",
    "        * MAX_WAV_VALUE\n",
    "        / 2,\n",
    "        dtype=np.int16,\n",
    "    )\n",
    "    write(\n",
    "        data=normalized_resampled_audio,\n",
    "        rate=resampled_audio[1],\n",
    "        filename=output_path,\n",
    "    )"
   ]
  },
  {
   "cell_type": "code",
   "execution_count": 54,
   "id": "89692d2d",
   "metadata": {},
   "outputs": [
    {
     "name": "stderr",
     "output_type": "stream",
     "text": [
      "100%|██████████| 18839/18839 [00:00<00:00, 1231688.20it/s]\n"
     ]
    }
   ],
   "source": [
    "import numpy as np\n",
    "MAX_WAV_VALUE=32768\n",
    "from scipy.io.wavfile import write\n",
    "from tqdm import tqdm\n",
    "import librosa\n",
    "output_paths =[]\n",
    "for rel_path in tqdm(full_data[0]):\n",
    "    rel_uuid = rel_path.split('.wav')[-2]\n",
    "    in_path = f\"/usr/src/app/radtts/data/{rel_path}\"\n",
    "    output_path = f\"/usr/src/app/radtts/data/{rel_uuid}_22k_normalized.wav\"\n",
    "#     resample(in_path, output_path)\n",
    "    output_paths.append(output_path)\n",
    "    \n"
   ]
  },
  {
   "cell_type": "code",
   "execution_count": null,
   "id": "668aa953",
   "metadata": {},
   "outputs": [],
   "source": []
  },
  {
   "cell_type": "code",
   "execution_count": 55,
   "id": "e82c90ce",
   "metadata": {},
   "outputs": [],
   "source": [
    "full_data[0] = output_paths"
   ]
  },
  {
   "cell_type": "code",
   "execution_count": 56,
   "id": "b00a6dc8",
   "metadata": {},
   "outputs": [],
   "source": [
    "full_data.to_csv('/usr/src/app/radtts/data/combined_022123_filelist_22k_normalized.txt', sep = '|', index = None, header = None)"
   ]
  },
  {
   "cell_type": "code",
   "execution_count": null,
   "id": "1536b7b3",
   "metadata": {},
   "outputs": [],
   "source": []
  }
 ],
 "metadata": {
  "kernelspec": {
   "display_name": "Python 3",
   "language": "python",
   "name": "python3"
  },
  "language_info": {
   "codemirror_mode": {
    "name": "ipython",
    "version": 3
   },
   "file_extension": ".py",
   "mimetype": "text/x-python",
   "name": "python",
   "nbconvert_exporter": "python",
   "pygments_lexer": "ipython3",
   "version": "3.8.8"
  }
 },
 "nbformat": 4,
 "nbformat_minor": 5
}
