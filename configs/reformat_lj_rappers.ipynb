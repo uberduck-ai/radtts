{
 "cells": [
  {
   "cell_type": "code",
   "execution_count": 2,
   "id": "e2becf63",
   "metadata": {},
   "outputs": [],
   "source": [
    "# TODO (Sam): have to fix (maybe use trimmed data?), add thomas copeland\n",
    "import pandas as pd\n",
    "eminem_filelist = \"/usr/src/app/radtts/data/eminem_14/train_multi.txt\"\n",
    "uberduck_multi_filelist = \"/usr/src/app/radtts/data/uberduck-rappers.txt\"\n",
    "lj_filelist = \"/usr/src/app/radtts/data/lj_data/LJSpeech-1.1/metadata_formatted.txt\"\n",
    "sjk_filelist = \"/usr/src/app/radtts/data/sjk/filelist.txt\"\n",
    "zwf_vc_filelist = \"/usr/src/app/radtts/data/zwf-vc/filelist.txt\"\n",
    "wrl_filelist = \"/usr/src/app/radtts/data/wrl/filelist.txt\"\n",
    "copeland_filelist = \"/usr/src/app/radtts/data/copeland/Verses_multi.txt\"\n"
   ]
  },
  {
   "cell_type": "code",
   "execution_count": 3,
   "id": "16f1fb56",
   "metadata": {},
   "outputs": [],
   "source": [
    "eminem_data = pd.read_csv(eminem_filelist, sep='|', index_col=None, header = None)\n",
    "uberduck_data = pd.read_csv(uberduck_multi_filelist, sep='|', index_col=None, header = None)\n",
    "lj_data = pd.read_csv(lj_filelist, sep='|', index_col=None, header = None)\n",
    "sjk_vc = pd.read_csv(sjk_filelist, sep='|', index_col=None, header = None)\n",
    "zwf_vc = pd.read_csv(zwf_vc_filelist, sep='|', index_col=None, header = None)\n",
    "wrl_vc = pd.read_csv(wrl_filelist, sep='|', index_col=None, header = None)\n",
    "copeland = pd.read_csv(copeland_filelist, sep='|', index_col=None, header = None)"
   ]
  },
  {
   "cell_type": "code",
   "execution_count": 5,
   "id": "80a4cc54",
   "metadata": {},
   "outputs": [
    {
     "data": {
      "text/html": [
       "<div>\n",
       "<style scoped>\n",
       "    .dataframe tbody tr th:only-of-type {\n",
       "        vertical-align: middle;\n",
       "    }\n",
       "\n",
       "    .dataframe tbody tr th {\n",
       "        vertical-align: top;\n",
       "    }\n",
       "\n",
       "    .dataframe thead th {\n",
       "        text-align: right;\n",
       "    }\n",
       "</style>\n",
       "<table border=\"1\" class=\"dataframe\">\n",
       "  <thead>\n",
       "    <tr style=\"text-align: right;\">\n",
       "      <th></th>\n",
       "      <th>0</th>\n",
       "      <th>1</th>\n",
       "      <th>2</th>\n",
       "    </tr>\n",
       "  </thead>\n",
       "  <tbody>\n",
       "    <tr>\n",
       "      <th>251</th>\n",
       "      <td>eminem/wav22050/01.wav</td>\n",
       "      <td>It's like this and like that and like this.</td>\n",
       "      <td>1</td>\n",
       "    </tr>\n",
       "    <tr>\n",
       "      <th>252</th>\n",
       "      <td>eminem/wav22050/02.wav</td>\n",
       "      <td>I'm the illest rapper to hold the cordless, pa...</td>\n",
       "      <td>1</td>\n",
       "    </tr>\n",
       "    <tr>\n",
       "      <th>253</th>\n",
       "      <td>eminem/wav22050/03.wav</td>\n",
       "      <td>I'm meaner in action than Roscoe beatin' James...</td>\n",
       "      <td>1</td>\n",
       "    </tr>\n",
       "    <tr>\n",
       "      <th>254</th>\n",
       "      <td>eminem/wav22050/04.wav</td>\n",
       "      <td>I grew up in a wild hood, as a hazardous youth...</td>\n",
       "      <td>1</td>\n",
       "    </tr>\n",
       "    <tr>\n",
       "      <th>255</th>\n",
       "      <td>eminem/wav22050/05.wav</td>\n",
       "      <td>And ain't shit changed, I kept the same mind s...</td>\n",
       "      <td>1</td>\n",
       "    </tr>\n",
       "    <tr>\n",
       "      <th>...</th>\n",
       "      <td>...</td>\n",
       "      <td>...</td>\n",
       "      <td>...</td>\n",
       "    </tr>\n",
       "    <tr>\n",
       "      <th>819</th>\n",
       "      <td>eminem/wav22050/630.wav</td>\n",
       "      <td>there's way too much at stake for me to be fak...</td>\n",
       "      <td>1</td>\n",
       "    </tr>\n",
       "    <tr>\n",
       "      <th>820</th>\n",
       "      <td>eminem/wav22050/631.wav</td>\n",
       "      <td>What the fuck you take me for, a joke? You smo...</td>\n",
       "      <td>1</td>\n",
       "    </tr>\n",
       "    <tr>\n",
       "      <th>821</th>\n",
       "      <td>eminem/wav22050/632.wav</td>\n",
       "      <td>I'm tryna smack this one out the park. Five-th...</td>\n",
       "      <td>1</td>\n",
       "    </tr>\n",
       "    <tr>\n",
       "      <th>822</th>\n",
       "      <td>eminem/wav22050/633.wav</td>\n",
       "      <td>See me leap out, pull a piece out. Fuck shooti...</td>\n",
       "      <td>1</td>\n",
       "    </tr>\n",
       "    <tr>\n",
       "      <th>823</th>\n",
       "      <td>eminem/wav22050/634.wav</td>\n",
       "      <td>Yo, Slim, you gon' let him get away with that?...</td>\n",
       "      <td>1</td>\n",
       "    </tr>\n",
       "  </tbody>\n",
       "</table>\n",
       "<p>573 rows × 3 columns</p>\n",
       "</div>"
      ],
      "text/plain": [
       "                           0  \\\n",
       "251   eminem/wav22050/01.wav   \n",
       "252   eminem/wav22050/02.wav   \n",
       "253   eminem/wav22050/03.wav   \n",
       "254   eminem/wav22050/04.wav   \n",
       "255   eminem/wav22050/05.wav   \n",
       "..                       ...   \n",
       "819  eminem/wav22050/630.wav   \n",
       "820  eminem/wav22050/631.wav   \n",
       "821  eminem/wav22050/632.wav   \n",
       "822  eminem/wav22050/633.wav   \n",
       "823  eminem/wav22050/634.wav   \n",
       "\n",
       "                                                     1  2  \n",
       "251        It's like this and like that and like this.  1  \n",
       "252  I'm the illest rapper to hold the cordless, pa...  1  \n",
       "253  I'm meaner in action than Roscoe beatin' James...  1  \n",
       "254  I grew up in a wild hood, as a hazardous youth...  1  \n",
       "255  And ain't shit changed, I kept the same mind s...  1  \n",
       "..                                                 ... ..  \n",
       "819  there's way too much at stake for me to be fak...  1  \n",
       "820  What the fuck you take me for, a joke? You smo...  1  \n",
       "821  I'm tryna smack this one out the park. Five-th...  1  \n",
       "822  See me leap out, pull a piece out. Fuck shooti...  1  \n",
       "823  Yo, Slim, you gon' let him get away with that?...  1  \n",
       "\n",
       "[573 rows x 3 columns]"
      ]
     },
     "execution_count": 5,
     "metadata": {},
     "output_type": "execute_result"
    }
   ],
   "source": [
    "uberduck_data[uberduck_data[2]==1]"
   ]
  },
  {
   "cell_type": "code",
   "execution_count": 128,
   "id": "34135dcc",
   "metadata": {},
   "outputs": [],
   "source": [
    "lj_data[2] = 10\n",
    "eminem_data[2] = 11\n",
    "sjk_vc[2] = 12\n",
    "zwf_vc[2] = 13\n",
    "wrl_vc[2] = 14\n",
    "copeland[2] = 15"
   ]
  },
  {
   "cell_type": "code",
   "execution_count": 129,
   "id": "4fdbe086",
   "metadata": {},
   "outputs": [],
   "source": [
    "for i in range(eminem_data.shape[0]):\n",
    "    eminem_data.iloc[i,0] = f\"eminem_14/{eminem_data.iloc[i,0]}\"\n",
    "\n",
    "for i in range(lj_data.shape[0]):\n",
    "    lj_data.iloc[i,0] = f\"lj_data/LJSpeech-1.1/wavs/{lj_data.iloc[i,0]}\"\n",
    "    \n",
    "for i in range(sjk_vc.shape[0]):\n",
    "    sjk_vc.iloc[i,0] = f\"sjk/{sjk_vc.iloc[i,0]}\"\n",
    "    \n",
    "for i in range(zwf_vc.shape[0]):\n",
    "    zwf_vc.iloc[i,0] = f\"zwf-vc/{zwf_vc.iloc[i,0]}\"\n",
    "    \n",
    "for i in range(wrl_vc.shape[0]):\n",
    "    wrl_vc.iloc[i,0] = f\"wrl/{wrl_vc.iloc[i,0]}\"\n",
    "    \n",
    "for i in range(copeland.shape[0]):\n",
    "    copeland.iloc[i,0] = f\"copeland/{copeland.iloc[i,0]}\""
   ]
  },
  {
   "cell_type": "code",
   "execution_count": 130,
   "id": "397fee31",
   "metadata": {},
   "outputs": [],
   "source": [
    "full_data = pd.concat([eminem_data, uberduck_data, lj_data, sjk_vc, zwf_vc, wrl_vc, copeland])"
   ]
  },
  {
   "cell_type": "code",
   "execution_count": 131,
   "id": "398be873",
   "metadata": {},
   "outputs": [],
   "source": [
    "def resample(in_path, output_path):\n",
    "    resampled_audio = librosa.load(in_path)\n",
    "    normalized_resampled_audio = np.asarray(\n",
    "        resampled_audio[0]\n",
    "        / np.abs(resampled_audio[0]).max()\n",
    "        * MAX_WAV_VALUE\n",
    "        / 2,\n",
    "        dtype=np.int16,\n",
    "    )\n",
    "    write(\n",
    "        data=normalized_resampled_audio,\n",
    "        rate=resampled_audio[1],\n",
    "        filename=output_path,\n",
    "    )"
   ]
  },
  {
   "cell_type": "code",
   "execution_count": 132,
   "id": "56dbf10a",
   "metadata": {},
   "outputs": [
    {
     "name": "stderr",
     "output_type": "stream",
     "text": [
      "100%|██████████| 16858/16858 [01:04<00:00, 259.67it/s] \n"
     ]
    }
   ],
   "source": [
    "import numpy as np\n",
    "MAX_WAV_VALUE=32768\n",
    "from scipy.io.wavfile import write\n",
    "from tqdm import tqdm\n",
    "import librosa\n",
    "output_paths =[]\n",
    "for rel_path in tqdm(full_data[0]):\n",
    "    rel_uuid = rel_path.split('.wav')[-2]\n",
    "    in_path = f\"/usr/src/app/radtts/data/{rel_path}\"\n",
    "    output_path = f\"/usr/src/app/radtts/data/{rel_uuid}_22k_normalized.wav\"\n",
    "    resample(in_path, output_path)\n",
    "    output_paths.append(output_path)\n",
    "    \n"
   ]
  },
  {
   "cell_type": "code",
   "execution_count": 135,
   "id": "5d0e4b6d",
   "metadata": {},
   "outputs": [],
   "source": [
    "full_data[0] = output_paths"
   ]
  },
  {
   "cell_type": "code",
   "execution_count": 136,
   "id": "87fb6046",
   "metadata": {},
   "outputs": [],
   "source": [
    "full_data.to_csv('/usr/src/app/radtts/data/combined_filelist_22k_normalized.txt', sep = '|', index = None, header = None)"
   ]
  },
  {
   "cell_type": "code",
   "execution_count": 137,
   "id": "ff277aa1",
   "metadata": {},
   "outputs": [
    {
     "data": {
      "text/plain": [
       "15"
      ]
     },
     "execution_count": 137,
     "metadata": {},
     "output_type": "execute_result"
    }
   ],
   "source": [
    "full_data[2].max()"
   ]
  },
  {
   "cell_type": "code",
   "execution_count": 138,
   "id": "7c0948b7",
   "metadata": {},
   "outputs": [
    {
     "data": {
      "text/html": [
       "<div>\n",
       "<style scoped>\n",
       "    .dataframe tbody tr th:only-of-type {\n",
       "        vertical-align: middle;\n",
       "    }\n",
       "\n",
       "    .dataframe tbody tr th {\n",
       "        vertical-align: top;\n",
       "    }\n",
       "\n",
       "    .dataframe thead th {\n",
       "        text-align: right;\n",
       "    }\n",
       "</style>\n",
       "<table border=\"1\" class=\"dataframe\">\n",
       "  <thead>\n",
       "    <tr style=\"text-align: right;\">\n",
       "      <th></th>\n",
       "      <th>0</th>\n",
       "      <th>1</th>\n",
       "      <th>2</th>\n",
       "    </tr>\n",
       "  </thead>\n",
       "  <tbody>\n",
       "    <tr>\n",
       "      <th>0</th>\n",
       "      <td>/usr/src/app/radtts/data/eminem_14/wav22050/14...</td>\n",
       "      <td>Moby? You can get stomped by Obie You 36-year-...</td>\n",
       "      <td>11</td>\n",
       "    </tr>\n",
       "    <tr>\n",
       "      <th>1</th>\n",
       "      <td>/usr/src/app/radtts/data/eminem_14/wav22050/21...</td>\n",
       "      <td>But I'm so busy being pissed off, I don't stop...</td>\n",
       "      <td>11</td>\n",
       "    </tr>\n",
       "    <tr>\n",
       "      <th>2</th>\n",
       "      <td>/usr/src/app/radtts/data/eminem_14/wav22050/42...</td>\n",
       "      <td>I just drank a fifth of vodka, dare me to driv...</td>\n",
       "      <td>11</td>\n",
       "    </tr>\n",
       "    <tr>\n",
       "      <th>3</th>\n",
       "      <td>/usr/src/app/radtts/data/eminem_14/wav22050/34...</td>\n",
       "      <td>Cause you finna get stuck, stoned, and snuffed...</td>\n",
       "      <td>11</td>\n",
       "    </tr>\n",
       "    <tr>\n",
       "      <th>4</th>\n",
       "      <td>/usr/src/app/radtts/data/eminem_14/wav22050/14...</td>\n",
       "      <td>not the first king of controversy. I am the wo...</td>\n",
       "      <td>11</td>\n",
       "    </tr>\n",
       "    <tr>\n",
       "      <th>...</th>\n",
       "      <td>...</td>\n",
       "      <td>...</td>\n",
       "      <td>...</td>\n",
       "    </tr>\n",
       "    <tr>\n",
       "      <th>98</th>\n",
       "      <td>/usr/src/app/radtts/data/copeland/wavs/95_22k_...</td>\n",
       "      <td>I started rappin' I didn't think I could make ...</td>\n",
       "      <td>15</td>\n",
       "    </tr>\n",
       "    <tr>\n",
       "      <th>99</th>\n",
       "      <td>/usr/src/app/radtts/data/copeland/wavs/96_22k_...</td>\n",
       "      <td>These niggas wanna see me flop I told yall tha...</td>\n",
       "      <td>15</td>\n",
       "    </tr>\n",
       "    <tr>\n",
       "      <th>100</th>\n",
       "      <td>/usr/src/app/radtts/data/copeland/wavs/97_22k_...</td>\n",
       "      <td>Ladies screaming out Joseph like they know him...</td>\n",
       "      <td>15</td>\n",
       "    </tr>\n",
       "    <tr>\n",
       "      <th>101</th>\n",
       "      <td>/usr/src/app/radtts/data/copeland/wavs/98_22k_...</td>\n",
       "      <td>You tryna sleep on me but watch my dreams mani...</td>\n",
       "      <td>15</td>\n",
       "    </tr>\n",
       "    <tr>\n",
       "      <th>102</th>\n",
       "      <td>/usr/src/app/radtts/data/copeland/wavs/99_22k_...</td>\n",
       "      <td>First off you been tryna get it. I heard it fr...</td>\n",
       "      <td>15</td>\n",
       "    </tr>\n",
       "  </tbody>\n",
       "</table>\n",
       "<p>16858 rows × 3 columns</p>\n",
       "</div>"
      ],
      "text/plain": [
       "                                                     0  \\\n",
       "0    /usr/src/app/radtts/data/eminem_14/wav22050/14...   \n",
       "1    /usr/src/app/radtts/data/eminem_14/wav22050/21...   \n",
       "2    /usr/src/app/radtts/data/eminem_14/wav22050/42...   \n",
       "3    /usr/src/app/radtts/data/eminem_14/wav22050/34...   \n",
       "4    /usr/src/app/radtts/data/eminem_14/wav22050/14...   \n",
       "..                                                 ...   \n",
       "98   /usr/src/app/radtts/data/copeland/wavs/95_22k_...   \n",
       "99   /usr/src/app/radtts/data/copeland/wavs/96_22k_...   \n",
       "100  /usr/src/app/radtts/data/copeland/wavs/97_22k_...   \n",
       "101  /usr/src/app/radtts/data/copeland/wavs/98_22k_...   \n",
       "102  /usr/src/app/radtts/data/copeland/wavs/99_22k_...   \n",
       "\n",
       "                                                     1   2  \n",
       "0    Moby? You can get stomped by Obie You 36-year-...  11  \n",
       "1    But I'm so busy being pissed off, I don't stop...  11  \n",
       "2    I just drank a fifth of vodka, dare me to driv...  11  \n",
       "3    Cause you finna get stuck, stoned, and snuffed...  11  \n",
       "4    not the first king of controversy. I am the wo...  11  \n",
       "..                                                 ...  ..  \n",
       "98   I started rappin' I didn't think I could make ...  15  \n",
       "99   These niggas wanna see me flop I told yall tha...  15  \n",
       "100  Ladies screaming out Joseph like they know him...  15  \n",
       "101  You tryna sleep on me but watch my dreams mani...  15  \n",
       "102  First off you been tryna get it. I heard it fr...  15  \n",
       "\n",
       "[16858 rows x 3 columns]"
      ]
     },
     "execution_count": 138,
     "metadata": {},
     "output_type": "execute_result"
    }
   ],
   "source": [
    "full_data"
   ]
  },
  {
   "cell_type": "code",
   "execution_count": 49,
   "id": "372366fa",
   "metadata": {},
   "outputs": [],
   "source": []
  },
  {
   "cell_type": "code",
   "execution_count": 50,
   "id": "e7967f6f",
   "metadata": {},
   "outputs": [],
   "source": [
    "# full_data.to_csv('/usr/src/app/radtts/data/combined_filelist.txt', sep = '|', index = None, header = None)"
   ]
  },
  {
   "cell_type": "code",
   "execution_count": 51,
   "id": "0f18b2b2",
   "metadata": {},
   "outputs": [
    {
     "data": {
      "text/plain": [
       "(0, 14)"
      ]
     },
     "execution_count": 51,
     "metadata": {},
     "output_type": "execute_result"
    }
   ],
   "source": [
    "full_data[2].min(), full_data[2].max()"
   ]
  },
  {
   "cell_type": "code",
   "execution_count": 64,
   "id": "bc9e406b",
   "metadata": {},
   "outputs": [],
   "source": [
    "bigfilelist = pd.read_csv('/usr/src/app/radtts/data/combined_filelist_22k_normalized.txt', sep = '|', index_col = None, header = None)"
   ]
  },
  {
   "cell_type": "code",
   "execution_count": 74,
   "id": "58536a7d",
   "metadata": {},
   "outputs": [],
   "source": [
    "lj_normalized = bigfilelist[bigfilelist[2] == 10]"
   ]
  },
  {
   "cell_type": "code",
   "execution_count": 69,
   "id": "0f936012",
   "metadata": {},
   "outputs": [],
   "source": [
    "lj_normalized.to_csv('/usr/src/app/radtts/data/lj_22k_normalized.txt', sep = '|', index =  None, header = None)"
   ]
  },
  {
   "cell_type": "code",
   "execution_count": 84,
   "id": "6e8684d4",
   "metadata": {},
   "outputs": [
    {
     "data": {
      "text/plain": [
       "'/usr/src/app/radtts/data/lj_data/LJSpeech-1_22k_normalized.wav'"
      ]
     },
     "execution_count": 84,
     "metadata": {},
     "output_type": "execute_result"
    }
   ],
   "source": [
    "lj_normalized.iloc[0,0]"
   ]
  },
  {
   "cell_type": "code",
   "execution_count": null,
   "id": "3e2a23de",
   "metadata": {},
   "outputs": [],
   "source": []
  }
 ],
 "metadata": {
  "kernelspec": {
   "display_name": "Python 3",
   "language": "python",
   "name": "python3"
  },
  "language_info": {
   "codemirror_mode": {
    "name": "ipython",
    "version": 3
   },
   "file_extension": ".py",
   "mimetype": "text/x-python",
   "name": "python",
   "nbconvert_exporter": "python",
   "pygments_lexer": "ipython3",
   "version": "3.8.8"
  }
 },
 "nbformat": 4,
 "nbformat_minor": 5
}
