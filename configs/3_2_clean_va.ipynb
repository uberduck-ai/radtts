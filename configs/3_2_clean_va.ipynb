{
 "cells": [
  {
   "cell_type": "code",
   "execution_count": 1,
   "id": "7725942e",
   "metadata": {},
   "outputs": [],
   "source": [
    "# small dataset is faster and allows easier comparison of clean and raw since we have for all data\n",
    "import pandas as pd\n",
    "lj_filelist = \"/usr/src/app/radtts/data/lj_data/LJSpeech-1.1/metadata_formatted.txt\"\n",
    "copeland_filelist = \"/usr/src/app/radtts/data/dataset-1674754128-thomas-copeland (3)/copeland/filelist.txt\"\n",
    "one_am_filelist = \"/usr/src/app/radtts/data/dataset-1673374151-am (4)/trailer_guy_dataset/filelist.txt\"\n",
    "frosty_2_filelist = \"/usr/src/app/radtts/data/dataset-1674764542-frosty-john (3)/dataset/filelist.txt\"\n",
    "general_9_filelist = \"/usr/src/app/radtts/data/dataset-1674777109-general-herring (4)/dataset/filelist.txt\"\n",
    "bertie_1_filelist = \"/usr/src/app/radtts/data/dataset-1675114471-bertie (4)/dataset/filelist.txt\"\n",
    "general_6_filelist = \"/usr/src/app/radtts/data/dataset-1675130786-general-herring (3)/dataset/filelist.txt\"\n",
    "frosty_5_filelist = \"/usr/src/app/radtts/data/dataset-1675356555-frosty-john (3)/dataset/filelist.txt\"\n",
    "bertie_2_filelist = \"/usr/src/app/radtts/data/dataset-1675696662-bertie (3)/dataset/filelist.txt\""
   ]
  },
  {
   "cell_type": "code",
   "execution_count": 2,
   "id": "4a261227",
   "metadata": {},
   "outputs": [],
   "source": [
    "# eminem_data = pd.read_csv(eminem_filelist, sep='|', index_col=None, header = None)\n",
    "\n",
    "lj_data = pd.read_csv(lj_filelist, sep='|', index_col=None, header = None)\n",
    "\n",
    "copeland = pd.read_csv(copeland_filelist, sep='|', index_col=None, header = None)\n",
    "one_am = pd.read_csv(one_am_filelist, sep='|', index_col=None, header = None)\n",
    "frosty_2 = pd.read_csv(frosty_2_filelist, sep='|', index_col=None, header = None)\n",
    "general_9 = pd.read_csv(general_9_filelist, sep='|', index_col=None, header = None)\n",
    "bertie_1 = pd.read_csv(bertie_1_filelist, sep='|', index_col=None, header = None)\n",
    "general_6 = pd.read_csv(general_6_filelist, sep='|', index_col=None, header = None)\n",
    "frosty_5 = pd.read_csv(frosty_5_filelist, sep='|', index_col=None, header = None)\n",
    "bertie_2 = pd.read_csv(bertie_2_filelist, sep='|', index_col=None, header = None)"
   ]
  },
  {
   "cell_type": "code",
   "execution_count": 3,
   "id": "cbc788ce",
   "metadata": {},
   "outputs": [],
   "source": [
    "lj_data[2] = 0\n",
    "copeland[2] = 1\n",
    "bertie_1[2] = 2\n",
    "frosty_2[2] = 3\n",
    "one_am[2] = 4\n",
    "general_9[2] = 5\n",
    "general_6[2] = 6\n",
    "frosty_5[2] = 7\n",
    "bertie_2[2] = 8\n"
   ]
  },
  {
   "cell_type": "code",
   "execution_count": 4,
   "id": "e101dcef",
   "metadata": {},
   "outputs": [],
   "source": [
    "# for i in range(eminem_data.shape[0]):\n",
    "#     eminem_data.iloc[i,0] = f\"eminem_14/{eminem_data.iloc[i,0]}\"\n",
    "\n",
    "for i in range(lj_data.shape[0]):\n",
    "    lj_data.iloc[i,0] = f\"lj_data/LJSpeech-1.1/wavs/{lj_data.iloc[i,0]}\"\n",
    "\n",
    "for i in range(copeland.shape[0]):\n",
    "    copeland.iloc[i,0] = f\"dataset-1674754128-thomas-copeland (3)/copeland/{copeland.iloc[i,0]}\"\n",
    "    \n",
    "for i in range(one_am.shape[0]):\n",
    "    one_am.iloc[i,0] = f\"dataset-1673374151-am (4)/trailer_guy_dataset/{one_am.iloc[i,0]}\"\n",
    "    \n",
    "for i in range(frosty_2.shape[0]):\n",
    "    frosty_2.iloc[i,0] = f\"dataset-1674764542-frosty-john (3)/dataset/{frosty_2.iloc[i,0]}\"\n",
    "    \n",
    "for i in range(general_9.shape[0]):\n",
    "    general_9.iloc[i,0] = f\"dataset-1674777109-general-herring (4)/dataset/{general_9.iloc[i,0]}\"\n",
    "    \n",
    "for i in range(bertie_1.shape[0]):\n",
    "    bertie_1.iloc[i,0] = f\"dataset-1675114471-bertie (4)/dataset/{bertie_1.iloc[i,0]}\"\n",
    "    \n",
    "for i in range(general_6.shape[0]):\n",
    "    general_6.iloc[i,0] = f\"dataset-1675130786-general-herring (3)/dataset/{general_6.iloc[i,0]}\"\n",
    "    \n",
    "for i in range(frosty_5.shape[0]):\n",
    "    frosty_5.iloc[i,0] = f\"dataset-1675356555-frosty-john (3)/dataset/{frosty_5.iloc[i,0]}\"\n",
    "    \n",
    "for i in range(bertie_2.shape[0]):\n",
    "    bertie_2.iloc[i,0] = f\"dataset-1675696662-bertie (3)/dataset/{bertie_2.iloc[i,0]}\""
   ]
  },
  {
   "cell_type": "code",
   "execution_count": 5,
   "id": "f7a37da3",
   "metadata": {},
   "outputs": [],
   "source": [
    "full_data = pd.concat([\n",
    "                       lj_data, \n",
    "                       copeland,\n",
    "                       bertie_1,\n",
    "                       one_am,\n",
    "                       frosty_2,\n",
    "                       general_9,\n",
    "                       general_6,\n",
    "                       frosty_5,\n",
    "                       bertie_2,\n",
    "                      ])"
   ]
  },
  {
   "cell_type": "code",
   "execution_count": 6,
   "id": "ee93ab4c",
   "metadata": {},
   "outputs": [],
   "source": [
    "import tempfile\n",
    "def resample(in_path, output_path):\n",
    "\n",
    "    # first read and write to fix codec issues\n",
    "    rate, data = read(in_path)\n",
    "    tf = tempfile.NamedTemporaryFile(suffix = '.wav')\n",
    "    write(tf.name, rate = rate, data = np.asarray(data, dtype = np.int16))\n",
    "    \n",
    "    resampled_audio = librosa.load(tf.name)\n",
    "    normalized_resampled_audio = np.asarray(\n",
    "        resampled_audio[0]\n",
    "        / np.abs(resampled_audio[0]).max()\n",
    "        * MAX_WAV_VALUE\n",
    "        / 2,\n",
    "        dtype=np.int16,\n",
    "    )\n",
    "    write(\n",
    "        data=normalized_resampled_audio,\n",
    "        rate=resampled_audio[1],\n",
    "        filename=output_path,\n",
    "    )"
   ]
  },
  {
   "cell_type": "code",
   "execution_count": 7,
   "id": "cfc11329",
   "metadata": {},
   "outputs": [
    {
     "name": "stderr",
     "output_type": "stream",
     "text": [
      "100%|██████████| 15734/15734 [07:48<00:00, 33.56it/s] \n"
     ]
    }
   ],
   "source": [
    "import numpy as np\n",
    "MAX_WAV_VALUE=32768\n",
    "from scipy.io.wavfile import write, read\n",
    "from tqdm import tqdm\n",
    "import librosa\n",
    "output_paths =[]\n",
    "for rel_path in tqdm(full_data[0]):\n",
    "    rel_uuid = rel_path.split('.wav')[-2]\n",
    "    in_path = f\"/usr/src/app/radtts/data/{rel_path}\"\n",
    "    \n",
    "    output_path = f\"/usr/src/app/radtts/data/{rel_uuid}_22k_normalized.wav\"\n",
    "    resample(in_path, output_path)\n",
    "    output_paths.append(output_path)"
   ]
  },
  {
   "cell_type": "code",
   "execution_count": 9,
   "id": "ce223425",
   "metadata": {},
   "outputs": [],
   "source": [
    "full_data[0] = output_paths\n",
    "full_data.to_csv('/usr/src/app/radtts/data/combined_030223_clean_small_22k_normalized.txt', sep = '|', index = None, header = None)"
   ]
  },
  {
   "cell_type": "code",
   "execution_count": 10,
   "id": "ea1b00ae",
   "metadata": {},
   "outputs": [
    {
     "data": {
      "text/plain": [
       "(15734, 3)"
      ]
     },
     "execution_count": 10,
     "metadata": {},
     "output_type": "execute_result"
    }
   ],
   "source": [
    "full_data.shape"
   ]
  },
  {
   "cell_type": "code",
   "execution_count": null,
   "id": "512f18cc",
   "metadata": {},
   "outputs": [],
   "source": []
  }
 ],
 "metadata": {
  "kernelspec": {
   "display_name": "Python 3",
   "language": "python",
   "name": "python3"
  },
  "language_info": {
   "codemirror_mode": {
    "name": "ipython",
    "version": 3
   },
   "file_extension": ".py",
   "mimetype": "text/x-python",
   "name": "python",
   "nbconvert_exporter": "python",
   "pygments_lexer": "ipython3",
   "version": "3.8.8"
  }
 },
 "nbformat": 4,
 "nbformat_minor": 5
}
